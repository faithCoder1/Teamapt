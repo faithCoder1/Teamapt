{
 "cells": [
  {
   "cell_type": "code",
   "execution_count": 1,
   "id": "94decdb0",
   "metadata": {},
   "outputs": [],
   "source": [
    "import pandas as pd\n",
    "import numpy as np\n",
    "import seaborn as sns"
   ]
  },
  {
   "cell_type": "code",
   "execution_count": 2,
   "id": "6cdf7734",
   "metadata": {},
   "outputs": [],
   "source": [
    "phones = pd.read_table('phones.txt')"
   ]
  },
  {
   "cell_type": "code",
   "execution_count": 9,
   "id": "dad20ada",
   "metadata": {
    "scrolled": true
   },
   "outputs": [],
   "source": [
    "phones['Phone_numbers']= phones['Phone_numbers'].astype(str)"
   ]
  },
  {
   "cell_type": "code",
   "execution_count": 10,
   "id": "7e4e8413",
   "metadata": {},
   "outputs": [],
   "source": [
    "phones['lines'] = range(0,len(phones))"
   ]
  },
  {
   "cell_type": "code",
   "execution_count": 25,
   "id": "e282e5ce",
   "metadata": {},
   "outputs": [],
   "source": [
    "for i in range(0,len(phones)):\n",
    "    if phones['Phone_numbers'][i][0:3] in ['703','704','706','803','806','810','813','814','816','903','906','913','916']:\n",
    "        phones['lines'][i] ='MTN'\n",
    "    elif phones['Phone_numbers'][i][0:4] in ['7025','7026']:\n",
    "        phones['lines'][i] ='MTN'\n",
    "    elif phones['Phone_numbers'][i][0:3] in [ '701','708','802','808','812','901','902','904','907','912']:\n",
    "        phones['lines'][i] ='Airtel'\n",
    "    elif phones['Phone_numbers'][i][0:3] in ['705','805','807','811','815','905','915']:\n",
    "        phones['lines'][i] ='Globacom' \n",
    "    elif phones['Phone_numbers'][i][0:3] in ['809','817','818','909','908']:\n",
    "        phones['lines'][i] ='9mobile'\n",
    "    elif phones['Phone_numbers'][i][0:3] in ['804']:\n",
    "        phones['lines'][i] ='MTEL'\n",
    "    else:\n",
    "        phones['lines'][i] ='invalid'"
   ]
  },
  {
   "cell_type": "code",
   "execution_count": 16,
   "id": "556529da",
   "metadata": {},
   "outputs": [],
   "source": [
    " if phones['Phone_numbers'][1][0:3] in ['703','704','706','803','806''810','813','814','816','903','906','913','916']:\n",
    "        phones['lines'][i] =='MTN'"
   ]
  },
  {
   "cell_type": "code",
   "execution_count": 20,
   "id": "83c5b8c3",
   "metadata": {
    "scrolled": false
   },
   "outputs": [
    {
     "data": {
      "text/html": [
       "<div>\n",
       "<style scoped>\n",
       "    .dataframe tbody tr th:only-of-type {\n",
       "        vertical-align: middle;\n",
       "    }\n",
       "\n",
       "    .dataframe tbody tr th {\n",
       "        vertical-align: top;\n",
       "    }\n",
       "\n",
       "    .dataframe thead th {\n",
       "        text-align: right;\n",
       "    }\n",
       "</style>\n",
       "<table border=\"1\" class=\"dataframe\">\n",
       "  <thead>\n",
       "    <tr style=\"text-align: right;\">\n",
       "      <th></th>\n",
       "      <th>Phone_numbers</th>\n",
       "      <th>lines</th>\n",
       "    </tr>\n",
       "  </thead>\n",
       "  <tbody>\n",
       "    <tr>\n",
       "      <th>0</th>\n",
       "      <td>9167262078</td>\n",
       "      <td>MTN</td>\n",
       "    </tr>\n",
       "    <tr>\n",
       "      <th>1</th>\n",
       "      <td>7062968142</td>\n",
       "      <td>MTN</td>\n",
       "    </tr>\n",
       "    <tr>\n",
       "      <th>2</th>\n",
       "      <td>9023732261</td>\n",
       "      <td>Airtel</td>\n",
       "    </tr>\n",
       "    <tr>\n",
       "      <th>3</th>\n",
       "      <td>9092316561</td>\n",
       "      <td>9mobile</td>\n",
       "    </tr>\n",
       "    <tr>\n",
       "      <th>4</th>\n",
       "      <td>8129321533</td>\n",
       "      <td>Airtel</td>\n",
       "    </tr>\n",
       "    <tr>\n",
       "      <th>...</th>\n",
       "      <td>...</td>\n",
       "      <td>...</td>\n",
       "    </tr>\n",
       "    <tr>\n",
       "      <th>27517</th>\n",
       "      <td>8178025115</td>\n",
       "      <td>9mobile</td>\n",
       "    </tr>\n",
       "    <tr>\n",
       "      <th>27518</th>\n",
       "      <td>7025398033</td>\n",
       "      <td>MTN</td>\n",
       "    </tr>\n",
       "    <tr>\n",
       "      <th>27519</th>\n",
       "      <td>9026857656</td>\n",
       "      <td>Airtel</td>\n",
       "    </tr>\n",
       "    <tr>\n",
       "      <th>27520</th>\n",
       "      <td>9091905079</td>\n",
       "      <td>9mobile</td>\n",
       "    </tr>\n",
       "    <tr>\n",
       "      <th>27521</th>\n",
       "      <td>8086795019</td>\n",
       "      <td>Airtel</td>\n",
       "    </tr>\n",
       "  </tbody>\n",
       "</table>\n",
       "<p>27522 rows × 2 columns</p>\n",
       "</div>"
      ],
      "text/plain": [
       "      Phone_numbers    lines\n",
       "0        9167262078      MTN\n",
       "1        7062968142      MTN\n",
       "2        9023732261   Airtel\n",
       "3        9092316561  9mobile\n",
       "4        8129321533   Airtel\n",
       "...             ...      ...\n",
       "27517    8178025115  9mobile\n",
       "27518    7025398033      MTN\n",
       "27519    9026857656   Airtel\n",
       "27520    9091905079  9mobile\n",
       "27521    8086795019   Airtel\n",
       "\n",
       "[27522 rows x 2 columns]"
      ]
     },
     "execution_count": 20,
     "metadata": {},
     "output_type": "execute_result"
    }
   ],
   "source": [
    "phones"
   ]
  },
  {
   "cell_type": "code",
   "execution_count": 24,
   "id": "2f93d21f",
   "metadata": {},
   "outputs": [
    {
     "data": {
      "text/html": [
       "<div>\n",
       "<style scoped>\n",
       "    .dataframe tbody tr th:only-of-type {\n",
       "        vertical-align: middle;\n",
       "    }\n",
       "\n",
       "    .dataframe tbody tr th {\n",
       "        vertical-align: top;\n",
       "    }\n",
       "\n",
       "    .dataframe thead th {\n",
       "        text-align: right;\n",
       "    }\n",
       "</style>\n",
       "<table border=\"1\" class=\"dataframe\">\n",
       "  <thead>\n",
       "    <tr style=\"text-align: right;\">\n",
       "      <th></th>\n",
       "      <th>Phone_numbers</th>\n",
       "      <th>lines</th>\n",
       "    </tr>\n",
       "  </thead>\n",
       "  <tbody>\n",
       "    <tr>\n",
       "      <th>33</th>\n",
       "      <td>8061015041</td>\n",
       "      <td>invalid</td>\n",
       "    </tr>\n",
       "    <tr>\n",
       "      <th>42</th>\n",
       "      <td>8063321055</td>\n",
       "      <td>invalid</td>\n",
       "    </tr>\n",
       "    <tr>\n",
       "      <th>55</th>\n",
       "      <td>8105179437</td>\n",
       "      <td>invalid</td>\n",
       "    </tr>\n",
       "    <tr>\n",
       "      <th>62</th>\n",
       "      <td>8107443860</td>\n",
       "      <td>invalid</td>\n",
       "    </tr>\n",
       "    <tr>\n",
       "      <th>93</th>\n",
       "      <td>8106901232</td>\n",
       "      <td>invalid</td>\n",
       "    </tr>\n",
       "    <tr>\n",
       "      <th>...</th>\n",
       "      <td>...</td>\n",
       "      <td>...</td>\n",
       "    </tr>\n",
       "    <tr>\n",
       "      <th>27364</th>\n",
       "      <td>8068925251</td>\n",
       "      <td>invalid</td>\n",
       "    </tr>\n",
       "    <tr>\n",
       "      <th>27426</th>\n",
       "      <td>8061682333</td>\n",
       "      <td>invalid</td>\n",
       "    </tr>\n",
       "    <tr>\n",
       "      <th>27453</th>\n",
       "      <td>8104051383</td>\n",
       "      <td>invalid</td>\n",
       "    </tr>\n",
       "    <tr>\n",
       "      <th>27480</th>\n",
       "      <td>8066330168</td>\n",
       "      <td>invalid</td>\n",
       "    </tr>\n",
       "    <tr>\n",
       "      <th>27500</th>\n",
       "      <td>8060169130</td>\n",
       "      <td>invalid</td>\n",
       "    </tr>\n",
       "  </tbody>\n",
       "</table>\n",
       "<p>1460 rows × 2 columns</p>\n",
       "</div>"
      ],
      "text/plain": [
       "      Phone_numbers    lines\n",
       "33       8061015041  invalid\n",
       "42       8063321055  invalid\n",
       "55       8105179437  invalid\n",
       "62       8107443860  invalid\n",
       "93       8106901232  invalid\n",
       "...             ...      ...\n",
       "27364    8068925251  invalid\n",
       "27426    8061682333  invalid\n",
       "27453    8104051383  invalid\n",
       "27480    8066330168  invalid\n",
       "27500    8060169130  invalid\n",
       "\n",
       "[1460 rows x 2 columns]"
      ]
     },
     "execution_count": 24,
     "metadata": {},
     "output_type": "execute_result"
    }
   ],
   "source": [
    "phones[phones['lines'] == 'invalid'])"
   ]
  },
  {
   "cell_type": "code",
   "execution_count": 26,
   "id": "48dcdb1f",
   "metadata": {
    "scrolled": true
   },
   "outputs": [
    {
     "data": {
      "text/plain": [
       "array(['MTN', 'Airtel', '9mobile', 'Globacom', 'MTEL'], dtype=object)"
      ]
     },
     "execution_count": 26,
     "metadata": {},
     "output_type": "execute_result"
    }
   ],
   "source": [
    "phones['lines'].unique()"
   ]
  },
  {
   "cell_type": "code",
   "execution_count": 29,
   "id": "7438b202",
   "metadata": {},
   "outputs": [
    {
     "data": {
      "text/plain": [
       "'MTN'"
      ]
     },
     "execution_count": 29,
     "metadata": {},
     "output_type": "execute_result"
    }
   ],
   "source": [
    "import streamlit as st\n",
    "\n",
    "st.header(\"Mobile phone number summary report\")\n",
    "st.text(\"Made by Oluyemisi Yesufu \")\n",
    "st.selectbox('Name Of Service provider',['MTN', 'Airtel', '9mobile', 'Globacom', 'MTEL'])"
   ]
  },
  {
   "cell_type": "code",
   "execution_count": 30,
   "id": "bd3df0ee",
   "metadata": {},
   "outputs": [],
   "source": [
    "import joblib"
   ]
  },
  {
   "cell_type": "code",
   "execution_count": 32,
   "id": "a7e25f46",
   "metadata": {},
   "outputs": [
    {
     "data": {
      "text/plain": [
       "['phones.pkl']"
      ]
     },
     "execution_count": 32,
     "metadata": {},
     "output_type": "execute_result"
    }
   ],
   "source": [
    "joblib.dump(phones,'phones.pkl')"
   ]
  },
  {
   "cell_type": "code",
   "execution_count": 50,
   "id": "de404ccb",
   "metadata": {},
   "outputs": [
    {
     "data": {
      "text/plain": [
       "[10848, 7302, 3612, 5005, 755]"
      ]
     },
     "execution_count": 50,
     "metadata": {},
     "output_type": "execute_result"
    }
   ],
   "source": [
    "servce_summ =[]\n",
    "for i in ['MTN', 'Airtel', '9mobile', 'Globacom', 'MTEL']:\n",
    "    servce_summ.append(len(phones[phones['lines']==i]))\n",
    "servce_summ"
   ]
  },
  {
   "cell_type": "code",
   "execution_count": 48,
   "id": "2dd04027",
   "metadata": {
    "scrolled": true
   },
   "outputs": [],
   "source": [
    "import matplotlib.pyplot as plt"
   ]
  },
  {
   "cell_type": "code",
   "execution_count": 58,
   "id": "a9adbb9d",
   "metadata": {},
   "outputs": [
    {
     "data": {
      "image/png": "[encoded data removed]",
      "text/plain": [
       "<Figure size 432x288 with 1 Axes>"
      ]
     },
     "metadata": {},
     "output_type": "display_data"
    }
   ],
   "source": [
    "fig1, ax1 = plt.subplots()\n",
    "explode = (0, 0.1, 0, 0,0)\n",
    "ax1.pie(servce_summ, explode=explode, labels=['MTN', 'Airtel', '9mobile', 'Globacom', 'MTEL'],\n",
    "        shadow=False, startangle=90,)\n",
    "ax1.axis('equal')\n",
    "pl\n",
    "plt.show()"
   ]
  },
  {
   "cell_type": "code",
   "execution_count": null,
   "id": "b3f4d074",
   "metadata": {},
   "outputs": [],
   "source": []
  }
 ],
 "metadata": {
  "kernelspec": {
   "display_name": "Python 3",
   "language": "python",
   "name": "python3"
  },
  "language_info": {
   "codemirror_mode": {
    "name": "ipython",
    "version": 3
   },
   "file_extension": ".py",
   "mimetype": "text/x-python",
   "name": "python",
   "nbconvert_exporter": "python",
   "pygments_lexer": "ipython3",
   "version": "3.8.8"
  }
 },
 "nbformat": 4,
 "nbformat_minor": 5
}
