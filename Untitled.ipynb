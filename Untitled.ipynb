{
 "cells": [
  {
   "cell_type": "markdown",
   "id": "39cb0695",
   "metadata": {},
   "source": [
    "## Mobile Phone Numbers Summary Report by YESUFU Oluyemisi Faith"
   ]
  },
  {
   "cell_type": "markdown",
   "id": "f655f907",
   "metadata": {},
   "source": [
    "### Imported modules"
   ]
  },
  {
   "cell_type": "code",
   "execution_count": 1,
   "id": "c0f4d556",
   "metadata": {},
   "outputs": [],
   "source": [
    "import pandas as pd\n",
    "import numpy as np"
   ]
  },
  {
   "cell_type": "code",
   "execution_count": 2,
   "id": "8c56ff43",
   "metadata": {},
   "outputs": [],
   "source": [
    "phones = pd.read_table('phones.txt')"
   ]
  },
  {
   "cell_type": "code",
   "execution_count": 9,
   "id": "945d3225",
   "metadata": {
    "scrolled": true
   },
   "outputs": [],
   "source": [
    "phones['Phone_numbers']= phones['Phone_numbers'].astype(str)"
   ]
  },
  {
   "cell_type": "markdown",
   "id": "889a5355",
   "metadata": {},
   "source": [
    "### Creation of a column for sevice providers called 'lines'"
   ]
  },
  {
   "cell_type": "code",
   "execution_count": 10,
   "id": "ecef1131",
   "metadata": {},
   "outputs": [],
   "source": [
    "phones['lines'] = range(0,len(phones))"
   ]
  },
  {
   "cell_type": "code",
   "execution_count": 25,
   "id": "d88245bc",
   "metadata": {},
   "outputs": [],
   "source": [
    "for i in range(0,len(phones)):\n",
    "    if phones['Phone_numbers'][i][0:3] in ['703','704','706','803','806','810','813','814','816','903','906','913','916']:\n",
    "        phones['lines'][i] ='MTN'\n",
    "    elif phones['Phone_numbers'][i][0:4] in ['7025','7026']:\n",
    "        phones['lines'][i] ='MTN'\n",
    "    elif phones['Phone_numbers'][i][0:3] in [ '701','708','802','808','812','901','902','904','907','912']:\n",
    "        phones['lines'][i] ='Airtel'\n",
    "    elif phones['Phone_numbers'][i][0:3] in ['705','805','807','811','815','905','915']:\n",
    "        phones['lines'][i] ='Globacom' \n",
    "    elif phones['Phone_numbers'][i][0:3] in ['809','817','818','909','908']:\n",
    "        phones['lines'][i] ='9mobile'\n",
    "    elif phones['Phone_numbers'][i][0:3] in ['804']:\n",
    "        phones['lines'][i] ='MTEL'\n",
    "    else:\n",
    "        phones['lines'][i] ='invalid'"
   ]
  },
  {
   "cell_type": "code",
   "execution_count": 20,
   "id": "487a2a20",
   "metadata": {
    "scrolled": false
   },
   "outputs": [
    {
     "data": {
      "text/html": [
       "<div>\n",
       "<style scoped>\n",
       "    .dataframe tbody tr th:only-of-type {\n",
       "        vertical-align: middle;\n",
       "    }\n",
       "\n",
       "    .dataframe tbody tr th {\n",
       "        vertical-align: top;\n",
       "    }\n",
       "\n",
       "    .dataframe thead th {\n",
       "        text-align: right;\n",
       "    }\n",
       "</style>\n",
       "<table border=\"1\" class=\"dataframe\">\n",
       "  <thead>\n",
       "    <tr style=\"text-align: right;\">\n",
       "      <th></th>\n",
       "      <th>Phone_numbers</th>\n",
       "      <th>lines</th>\n",
       "    </tr>\n",
       "  </thead>\n",
       "  <tbody>\n",
       "    <tr>\n",
       "      <th>0</th>\n",
       "      <td>9167262078</td>\n",
       "      <td>MTN</td>\n",
       "    </tr>\n",
       "    <tr>\n",
       "      <th>1</th>\n",
       "      <td>7062968142</td>\n",
       "      <td>MTN</td>\n",
       "    </tr>\n",
       "    <tr>\n",
       "      <th>2</th>\n",
       "      <td>9023732261</td>\n",
       "      <td>Airtel</td>\n",
       "    </tr>\n",
       "    <tr>\n",
       "      <th>3</th>\n",
       "      <td>9092316561</td>\n",
       "      <td>9mobile</td>\n",
       "    </tr>\n",
       "    <tr>\n",
       "      <th>4</th>\n",
       "      <td>8129321533</td>\n",
       "      <td>Airtel</td>\n",
       "    </tr>\n",
       "    <tr>\n",
       "      <th>...</th>\n",
       "      <td>...</td>\n",
       "      <td>...</td>\n",
       "    </tr>\n",
       "    <tr>\n",
       "      <th>27517</th>\n",
       "      <td>8178025115</td>\n",
       "      <td>9mobile</td>\n",
       "    </tr>\n",
       "    <tr>\n",
       "      <th>27518</th>\n",
       "      <td>7025398033</td>\n",
       "      <td>MTN</td>\n",
       "    </tr>\n",
       "    <tr>\n",
       "      <th>27519</th>\n",
       "      <td>9026857656</td>\n",
       "      <td>Airtel</td>\n",
       "    </tr>\n",
       "    <tr>\n",
       "      <th>27520</th>\n",
       "      <td>9091905079</td>\n",
       "      <td>9mobile</td>\n",
       "    </tr>\n",
       "    <tr>\n",
       "      <th>27521</th>\n",
       "      <td>8086795019</td>\n",
       "      <td>Airtel</td>\n",
       "    </tr>\n",
       "  </tbody>\n",
       "</table>\n",
       "<p>27522 rows × 2 columns</p>\n",
       "</div>"
      ],
      "text/plain": [
       "      Phone_numbers    lines\n",
       "0        9167262078      MTN\n",
       "1        7062968142      MTN\n",
       "2        9023732261   Airtel\n",
       "3        9092316561  9mobile\n",
       "4        8129321533   Airtel\n",
       "...             ...      ...\n",
       "27517    8178025115  9mobile\n",
       "27518    7025398033      MTN\n",
       "27519    9026857656   Airtel\n",
       "27520    9091905079  9mobile\n",
       "27521    8086795019   Airtel\n",
       "\n",
       "[27522 rows x 2 columns]"
      ]
     },
     "execution_count": 20,
     "metadata": {},
     "output_type": "execute_result"
    }
   ],
   "source": [
    "phones"
   ]
  },
  {
   "cell_type": "code",
   "execution_count": 26,
   "id": "7c5c99c4",
   "metadata": {
    "scrolled": true
   },
   "outputs": [
    {
     "data": {
      "text/plain": [
       "array(['MTN', 'Airtel', '9mobile', 'Globacom', 'MTEL'], dtype=object)"
      ]
     },
     "execution_count": 26,
     "metadata": {},
     "output_type": "execute_result"
    }
   ],
   "source": [
    "phones['lines'].unique()"
   ]
  },
  {
   "cell_type": "markdown",
   "id": "4f38fce8",
   "metadata": {},
   "source": [
    "### Creating the file an easy access to the improved file "
   ]
  },
  {
   "cell_type": "code",
   "execution_count": 30,
   "id": "e7c40f8e",
   "metadata": {},
   "outputs": [],
   "source": [
    "import joblib"
   ]
  },
  {
   "cell_type": "code",
   "execution_count": 32,
   "id": "1cd5879e",
   "metadata": {},
   "outputs": [
    {
     "data": {
      "text/plain": [
       "['phones.pkl']"
      ]
     },
     "execution_count": 32,
     "metadata": {},
     "output_type": "execute_result"
    }
   ],
   "source": [
    "joblib.dump(phones,'phones.pkl')"
   ]
  },
  {
   "cell_type": "code",
   "execution_count": 50,
   "id": "ef3507f8",
   "metadata": {},
   "outputs": [
    {
     "data": {
      "text/plain": [
       "[10848, 7302, 3612, 5005, 755]"
      ]
     },
     "execution_count": 50,
     "metadata": {},
     "output_type": "execute_result"
    }
   ],
   "source": [
    "servce_summ =[]\n",
    "for i in ['MTN', 'Airtel', '9mobile', 'Globacom', 'MTEL']:\n",
    "    servce_summ.append(len(phones[phones['lines']==i]))\n",
    "servce_summ"
   ]
  },
  {
   "cell_type": "code",
   "execution_count": 60,
   "id": "b87017a6",
   "metadata": {},
   "outputs": [
    {
     "data": {
      "text/html": [
       "<div>\n",
       "<style scoped>\n",
       "    .dataframe tbody tr th:only-of-type {\n",
       "        vertical-align: middle;\n",
       "    }\n",
       "\n",
       "    .dataframe tbody tr th {\n",
       "        vertical-align: top;\n",
       "    }\n",
       "\n",
       "    .dataframe thead th {\n",
       "        text-align: right;\n",
       "    }\n",
       "</style>\n",
       "<table border=\"1\" class=\"dataframe\">\n",
       "  <thead>\n",
       "    <tr style=\"text-align: right;\">\n",
       "      <th></th>\n",
       "      <th>Service providers</th>\n",
       "      <th>Total users</th>\n",
       "    </tr>\n",
       "  </thead>\n",
       "  <tbody>\n",
       "    <tr>\n",
       "      <th>0</th>\n",
       "      <td>MTN</td>\n",
       "      <td>10848</td>\n",
       "    </tr>\n",
       "    <tr>\n",
       "      <th>1</th>\n",
       "      <td>Airtel</td>\n",
       "      <td>7302</td>\n",
       "    </tr>\n",
       "    <tr>\n",
       "      <th>2</th>\n",
       "      <td>9mobile</td>\n",
       "      <td>3612</td>\n",
       "    </tr>\n",
       "    <tr>\n",
       "      <th>3</th>\n",
       "      <td>Globacom</td>\n",
       "      <td>5005</td>\n",
       "    </tr>\n",
       "    <tr>\n",
       "      <th>4</th>\n",
       "      <td>MTEL</td>\n",
       "      <td>755</td>\n",
       "    </tr>\n",
       "  </tbody>\n",
       "</table>\n",
       "</div>"
      ],
      "text/plain": [
       "  Service providers  Total users\n",
       "0               MTN        10848\n",
       "1            Airtel         7302\n",
       "2           9mobile         3612\n",
       "3          Globacom         5005\n",
       "4              MTEL          755"
      ]
     },
     "execution_count": 60,
     "metadata": {},
     "output_type": "execute_result"
    }
   ],
   "source": [
    "pd.DataFrame({\n",
    "    'Service providers': ['MTN', 'Airtel', '9mobile', 'Globacom', 'MTEL'],\n",
    "    'Total users': servce_summ})"
   ]
  },
  {
   "cell_type": "markdown",
   "id": "87a8cb4f",
   "metadata": {},
   "source": [
    "### Visualization of summary"
   ]
  },
  {
   "cell_type": "code",
   "execution_count": 48,
   "id": "9d257a54",
   "metadata": {
    "scrolled": true
   },
   "outputs": [],
   "source": [
    "import matplotlib.pyplot as plt"
   ]
  },
  {
   "cell_type": "code",
   "execution_count": 59,
   "id": "5f4a8066",
   "metadata": {},
   "outputs": [
    {
     "data": {
      "image/png": "[encoded data removed]",
      "text/plain": [
       "<Figure size 432x288 with 1 Axes>"
      ]
     },
     "metadata": {},
     "output_type": "display_data"
    }
   ],
   "source": [
    "fig1, ax1 = plt.subplots()\n",
    "explode = (0, 0.1, 0, 0,0)\n",
    "ax1.pie(servce_summ, explode=explode, labels=['MTN', 'Airtel', '9mobile', 'Globacom', 'MTEL'],\n",
    "        shadow=False, startangle=90,)\n",
    "ax1.axis('equal')\n",
    "plt.title('Service providers summary report')\n",
    "plt.show()"
   ]
  },
  {
   "cell_type": "markdown",
   "id": "85ddcfe8",
   "metadata": {},
   "source": [
    "## Thank you!"
   ]
  },
  {
   "cell_type": "code",
   "execution_count": null,
   "id": "dd76367b",
   "metadata": {},
   "outputs": [],
   "source": []
  }
 ],
 "metadata": {
  "kernelspec": {
   "display_name": "Python 3",
   "language": "python",
   "name": "python3"
  },
  "language_info": {
   "codemirror_mode": {
    "name": "ipython",
    "version": 3
   },
   "file_extension": ".py",
   "mimetype": "text/x-python",
   "name": "python",
   "nbconvert_exporter": "python",
   "pygments_lexer": "ipython3",
   "version": "3.8.8"
  }
 },
 "nbformat": 4,
 "nbformat_minor": 5
}
